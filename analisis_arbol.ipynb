{
 "cells": [
  {
   "cell_type": "code",
   "execution_count": 1,
   "metadata": {},
   "outputs": [],
   "source": [
    "import os\n",
    "import pymssql\n",
    "import pandas as pd\n",
    "from dotenv import load_dotenv\n",
    "\n",
    "load_dotenv()\n",
    "\n",
    "server   = os.getenv(\"SQL_SERVER\")\n",
    "user     = os.getenv(\"SQL_USER\")\n",
    "password = os.getenv(\"SQL_PASSWORD\")\n",
    "database = os.getenv(\"SQL_DATABASE\")\n",
    "\n",
    "conn = pymssql.connect(server=server, user=user, password=password, database=database)  \n",
    "\n",
    "def leer_query(filename):\n",
    "    return open(f\"./queries/{filename}\", 'r').read()"
   ]
  },
  {
   "cell_type": "code",
   "execution_count": 2,
   "metadata": {},
   "outputs": [
    {
     "name": "stderr",
     "output_type": "stream",
     "text": [
      "C:\\Users\\ddonoso\\AppData\\Local\\Temp\\ipykernel_18240\\3612384212.py:2: UserWarning: pandas only supports SQLAlchemy connectable (engine/connection) or database string URI or sqlite3 DBAPI2 connection. Other DBAPI2 objects are not tested. Please consider using SQLAlchemy.\n",
      "  busquedas = pd.read_sql(busquedas_query, conn)\n"
     ]
    }
   ],
   "source": [
    "busquedas_query = leer_query(\"busquedas_comparacion.sql\")\n",
    "busquedas = pd.read_sql(busquedas_query, conn)"
   ]
  },
  {
   "cell_type": "code",
   "execution_count": 3,
   "metadata": {},
   "outputs": [],
   "source": [
    "busquedas[\"busqueda_mod\"] = busquedas[\"busqueda_real\"]\n",
    "busquedas[\"busqueda_mod\"] = busquedas[\"busqueda_mod\"].str.replace(\"0\", \"O\").str.upper().str.replace(r'\\s+', ' ', regex=True).str.replace(\"-\", \"\").str.strip()\n",
    "busquedas[\"busqueda\"] = busquedas[\"busqueda\"].str.replace(\"0\", \"O\").str.upper().str.replace(r'\\s+', ' ', regex=True).str.strip()"
   ]
  },
  {
   "cell_type": "code",
   "execution_count": 4,
   "metadata": {},
   "outputs": [],
   "source": [
    "exacto_encontrados = busquedas[(busquedas[\"busqueda\"] == busquedas[\"busqueda_mod\"]) & (busquedas[\"resultados_bd\"] > 0)]\n",
    "exacto_no_encontrados = busquedas[(busquedas[\"busqueda\"] != busquedas[\"busqueda_mod\"]) | (busquedas[\"resultados_bd\"] == 0)]\n",
    "\n",
    "diccionario_encontrados = exacto_no_encontrados[(exacto_no_encontrados[\"busqueda\"] != exacto_no_encontrados[\"busqueda_mod\"]) & (exacto_no_encontrados[\"resultados_bd\"] > 0)]\n",
    "diccionario_no_encontrados = exacto_no_encontrados[(exacto_no_encontrados[\"busqueda\"] == exacto_no_encontrados[\"busqueda_mod\"]) | (exacto_no_encontrados[\"resultados_bd\"] == 0)]\n",
    "\n",
    "elastic_encontrados = diccionario_no_encontrados[(diccionario_no_encontrados[\"resultados_es\"] > 0)]\n",
    "elastic_no_encontrados = diccionario_no_encontrados[(diccionario_no_encontrados[\"resultados_es\"] == 0)]\n",
    "\n",
    "es_encontrado = busquedas[busquedas['resultados_es'] == 0]\n",
    "bd_encontrado = busquedas[busquedas['resultados_bd'] == 0]"
   ]
  },
  {
   "cell_type": "code",
   "execution_count": 7,
   "metadata": {},
   "outputs": [
    {
     "name": "stdout",
     "output_type": "stream",
     "text": [
      "\n",
      "Resultados árbol\n",
      "Total busqueda: 33085\n",
      "    Encontrado (exacto): \t17559, 53.0\n",
      "    No encontrado (exacto): \t15526, 46.9\n",
      "        Encontrado (diccionario):\t4661, 14.0\n",
      "        No encontrado (diccionario):\t10865, 32.8\n",
      "            Encontrado (elastic): \t\t808, 2.4\n",
      "            No encontrado (elastic): \t\t10057, 30.3\n",
      "\n",
      "\n",
      "Encontrados SP: \t22220\n",
      "NO encontrados SP: \t10865, 32.8%\n",
      "Encontrados ES: \t22805\n",
      "No encontrados ES: \t10280, 31.0%\n",
      "\n",
      "Diferencia de 0res: \t585\n",
      "\n"
     ]
    }
   ],
   "source": [
    "# Resultados:\n",
    "print(f\"\"\"\n",
    "Resultados árbol\n",
    "Total busqueda: {len(busquedas)}\n",
    "    Encontrado (exacto): \\t{len(exacto_encontrados)}, {int(len(exacto_encontrados) * 1000 / len(busquedas)) / 10}\n",
    "    No encontrado (exacto): \\t{len(exacto_no_encontrados)}, {int(len(exacto_no_encontrados) * 1000 / len(busquedas)) / 10}\n",
    "        Encontrado (diccionario):\\t{len(diccionario_encontrados)}, {int(len(diccionario_encontrados) * 1000 / len(busquedas)) / 10}\n",
    "        No encontrado (diccionario):\\t{len(diccionario_no_encontrados)}, {int(len(diccionario_no_encontrados) * 1000 / len(busquedas)) / 10}\n",
    "            Encontrado (elastic): \\t\\t{len(elastic_encontrados)}, {int(len(elastic_encontrados) * 1000 / len(busquedas)) / 10}\n",
    "            No encontrado (elastic): \\t\\t{len(elastic_no_encontrados)}, {int(len(elastic_no_encontrados) * 1000 / len(busquedas)) / 10}\n",
    "\"\"\")\n",
    "print(f\"\"\"\n",
    "Encontrados SP: \\t{len(busquedas[busquedas['resultados_bd'] > 0])}\n",
    "NO encontrados SP: \\t{len(busquedas[busquedas['resultados_bd'] == 0])}, {int(len(busquedas[busquedas['resultados_bd'] == 0]) * 1000 / len(busquedas)) / 10}%\n",
    "Encontrados ES: \\t{len(busquedas[busquedas['resultados_es'] > 0])}\n",
    "No encontrados ES: \\t{len(busquedas[busquedas['resultados_es'] == 0])}, {int(len(busquedas[busquedas['resultados_es'] == 0]) * 1000 / len(busquedas)) / 10}%\n",
    "\n",
    "Diferencia de 0res: \\t{len(bd_encontrado) - len(es_encontrado)}\n",
    "\"\"\")"
   ]
  },
  {
   "cell_type": "code",
   "execution_count": null,
   "metadata": {},
   "outputs": [],
   "source": []
  }
 ],
 "metadata": {
  "kernelspec": {
   "display_name": "elasticarbol",
   "language": "python",
   "name": "python3"
  },
  "language_info": {
   "codemirror_mode": {
    "name": "ipython",
    "version": 3
   },
   "file_extension": ".py",
   "mimetype": "text/x-python",
   "name": "python",
   "nbconvert_exporter": "python",
   "pygments_lexer": "ipython3",
   "version": "3.10.9"
  },
  "orig_nbformat": 4
 },
 "nbformat": 4,
 "nbformat_minor": 2
}
