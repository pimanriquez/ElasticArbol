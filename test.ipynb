{
 "cells": [
  {
   "cell_type": "code",
   "execution_count": 25,
   "metadata": {},
   "outputs": [
    {
     "name": "stderr",
     "output_type": "stream",
     "text": [
      "C:\\Users\\pimanriquez\\AppData\\Local\\Temp\\ipykernel_137236\\3939817863.py:30: UserWarning: pandas only supports SQLAlchemy connectable (engine/connection) or database string URI or sqlite3 DBAPI2 connection. Other DBAPI2 objects are not tested. Please consider using SQLAlchemy.\n",
      "  resBD = pd.read_sql(busquedasBD, conn)\n",
      "C:\\Users\\pimanriquez\\AppData\\Local\\Temp\\ipykernel_137236\\3939817863.py:34: UserWarning: pandas only supports SQLAlchemy connectable (engine/connection) or database string URI or sqlite3 DBAPI2 connection. Other DBAPI2 objects are not tested. Please consider using SQLAlchemy.\n",
      "  resElastic = pd.read_sql(busquedasElastic, conn)\n",
      "C:\\Users\\pimanriquez\\AppData\\Local\\Temp\\ipykernel_137236\\3939817863.py:39: UserWarning: pandas only supports SQLAlchemy connectable (engine/connection) or database string URI or sqlite3 DBAPI2 connection. Other DBAPI2 objects are not tested. Please consider using SQLAlchemy.\n",
      "  resCant = pd.read_sql(busquedasCant, conn_70)\n",
      "C:\\Users\\pimanriquez\\AppData\\Local\\Temp\\ipykernel_137236\\3939817863.py:43: UserWarning: pandas only supports SQLAlchemy connectable (engine/connection) or database string URI or sqlite3 DBAPI2 connection. Other DBAPI2 objects are not tested. Please consider using SQLAlchemy.\n",
      "  resNumAp = pd.read_sql(busquedasNumAp, conn_70)\n"
     ]
    }
   ],
   "source": [
    "import os\n",
    "import pandas as pd \n",
    "import pymssql\n",
    "from dotenv import load_dotenv\n",
    "load_dotenv()\n",
    "\n",
    "\n",
    "server   = os.getenv(\"SQL_SERVER_75\")\n",
    "user     = os.getenv(\"SQL_USER_75\")\n",
    "password = os.getenv(\"SQL_PASSWORD_75\")\n",
    "database = os.getenv(\"SQL_DATABASE_75\")\n",
    "\n",
    "server_70   = os.getenv(\"SQL_SERVER\")\n",
    "user_70    = os.getenv(\"SQL_USER\")\n",
    "password_70 = os.getenv(\"SQL_PASSWORD\")\n",
    "database_70 = os.getenv(\"SQL_DATABASE\")\n",
    "\n",
    "conn = pymssql.connect(server=server, user=user, password=password, database=database)  \n",
    "cursor = conn.cursor()\n",
    "\n",
    "conn_70 = pymssql.connect(server=server_70, user=user_70, password=password_70, database=database_70)  \n",
    "cursor_70 = conn_70.cursor()\n",
    "\n",
    "conn = pymssql.connect(server=server, user=user, password=password, database=database)  \n",
    "cursor = conn.cursor()\n",
    "\n",
    "# Búsquedas del servidor 75\n",
    "# Base de datos\n",
    "busquedasBD = open(f\"./queries/metrics/busquedas_bd_75.sql\", 'r').read()\n",
    "resBD = pd.read_sql(busquedasBD, conn)\n",
    "\n",
    "# Elastic\n",
    "busquedasElastic = open(f\"./queries/metrics/busquedas_elastic_75.sql\", 'r').read()\n",
    "resElastic = pd.read_sql(busquedasElastic, conn)\n",
    "\n",
    "# Búsquedas del servidor 70\n",
    "# Cantidad de resultados por búsqueda para base de datos y elastic\n",
    "busquedasCant = open(f\"./queries/metrics/busquedas_cantidades_70.sql\", 'r').read()\n",
    "resCant = pd.read_sql(busquedasCant, conn_70)\n",
    "\n",
    "# Productos con sus aplicaciones y modelos\n",
    "busquedasNumAp = open(f\"./queries/metrics/numeros_aplicaciones_70.sql\", 'r').read()\n",
    "resNumAp = pd.read_sql(busquedasNumAp, conn_70)\n",
    "\n"
   ]
  },
  {
   "cell_type": "code",
   "execution_count": 26,
   "metadata": {},
   "outputs": [
    {
     "data": {
      "text/plain": [
       "Index(['termino_busqueda', 'numero_refax', 'id_aplicacion'], dtype='object')"
      ]
     },
     "execution_count": 26,
     "metadata": {},
     "output_type": "execute_result"
    }
   ],
   "source": [
    "resBD.columns"
   ]
  },
  {
   "cell_type": "code",
   "execution_count": 27,
   "metadata": {},
   "outputs": [],
   "source": [
    "tblBd = resBD.merge(resNumAp, on=[\"numero_refax\", \"id_aplicacion\"])"
   ]
  },
  {
   "cell_type": "code",
   "execution_count": 29,
   "metadata": {},
   "outputs": [],
   "source": [
    "tblElastic = resElastic.merge(resNumAp, on=[\"numero_refax\", \"id_aplicacion\"])"
   ]
  },
  {
   "cell_type": "code",
   "execution_count": 31,
   "metadata": {},
   "outputs": [
    {
     "ename": "TypeError",
     "evalue": "unsupported operand type(s) for +: 'StringMethods' and 'str'",
     "output_type": "error",
     "traceback": [
      "\u001b[1;31m---------------------------------------------------------------------------\u001b[0m",
      "\u001b[1;31mTypeError\u001b[0m                                 Traceback (most recent call last)",
      "Cell \u001b[1;32mIn[31], line 1\u001b[0m\n\u001b[1;32m----> 1\u001b[0m tblElastic[\u001b[39m\"\u001b[39m\u001b[39mmezcla\u001b[39m\u001b[39m\"\u001b[39m] \u001b[39m=\u001b[39m tblElastic[\u001b[39m\"\u001b[39;49m\u001b[39mnombre_producto\u001b[39;49m\u001b[39m\"\u001b[39;49m]\u001b[39m.\u001b[39;49mstr \u001b[39m+\u001b[39;49m \u001b[39m\"\u001b[39;49m\u001b[39m \u001b[39;49m\u001b[39m\"\u001b[39;49m \u001b[39m+\u001b[39m tblElastic[\u001b[39m\"\u001b[39m\u001b[39mmodelo\u001b[39m\u001b[39m\"\u001b[39m]\u001b[39m.\u001b[39mstr\n",
      "\u001b[1;31mTypeError\u001b[0m: unsupported operand type(s) for +: 'StringMethods' and 'str'"
     ]
    }
   ],
   "source": [
    "tblElastic[\"mezcla\"] = tblElastic[\"nombre_producto\"].astype(str) + \" \" + tblElastic[\"modelo\"].astype(str)"
   ]
  },
  {
   "cell_type": "markdown",
   "metadata": {},
   "source": []
  }
 ],
 "metadata": {
  "kernelspec": {
   "display_name": "elasticarbol",
   "language": "python",
   "name": "python3"
  },
  "language_info": {
   "codemirror_mode": {
    "name": "ipython",
    "version": 3
   },
   "file_extension": ".py",
   "mimetype": "text/x-python",
   "name": "python",
   "nbconvert_exporter": "python",
   "pygments_lexer": "ipython3",
   "version": "3.10.8"
  },
  "orig_nbformat": 4
 },
 "nbformat": 4,
 "nbformat_minor": 2
}
